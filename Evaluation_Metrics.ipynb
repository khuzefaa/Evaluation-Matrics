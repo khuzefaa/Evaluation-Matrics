{
  "nbformat": 4,
  "nbformat_minor": 0,
  "metadata": {
    "colab": {
      "provenance": []
    },
    "kernelspec": {
      "name": "python3",
      "display_name": "Python 3"
    },
    "language_info": {
      "name": "python"
    }
  },
  "cells": [
    {
      "cell_type": "code",
      "source": [
        "import numpy as np\n",
        "import pandas as pd\n",
        "import matplotlib.pyplot as plt\n",
        "import seaborn as sns\n",
        "\n",
        "from sklearn.metrics import mean_absolute_error, mean_squared_error, root_mean_squared_error, r2_score\n",
        "from sklearn.metrics import accuracy_score, precision_score, recall_score, f1_score, confusion_matrix, roc_auc_score, classification_report, roc_curve, auc"
      ],
      "metadata": {
        "id": "Y2y5FREmBDKU"
      },
      "execution_count": null,
      "outputs": []
    },
    {
      "cell_type": "markdown",
      "source": [
        "# Evaluation Metrics"
      ],
      "metadata": {
        "id": "3M4eByLV3hSD"
      }
    },
    {
      "cell_type": "markdown",
      "source": [
        "## Common Regression Evaluation Metrics\n"
      ],
      "metadata": {
        "id": "6MB-0hBU3X0c"
      }
    },
    {
      "cell_type": "markdown",
      "source": [
        "\n",
        "Given:\n",
        "- $y_i$: Actual value\n",
        "- $\\hat{y}_i$: Predicted value\n",
        "- $n$: Number of samples\n",
        "\n",
        "---\n",
        "\n",
        "### 1. Mean Absolute Error (MAE)\n",
        "\n",
        "Measures the average absolute difference between predicted and actual values.\n",
        "\n",
        "$$\n",
        "\\text{MAE} = \\frac{1}{n} \\sum_{i=1}^{n} |y_i - \\hat{y}_i|\n",
        "$$\n",
        "\n",
        "- Intuitive and in the same unit as target\n",
        "- Robust to outliers\n",
        "\n",
        "---\n",
        "\n",
        "### 2. Mean Squared Error (MSE)\n",
        "\n",
        "Measures average squared difference between actual and predicted.\n",
        "\n",
        "$$\n",
        "\\text{MSE} = \\frac{1}{n} \\sum_{i=1}^{n} (y_i - \\hat{y}_i)^2\n",
        "$$\n",
        "\n",
        "- Punishes large errors more\n",
        "- Sensitive to outliers\n",
        "\n",
        "---\n",
        "\n",
        "### 3. Root Mean Squared Error (RMSE)\n",
        "\n",
        "Square root of MSE:\n",
        "\n",
        "$$\n",
        "\\text{RMSE} = \\sqrt{\\text{MSE}}\n",
        "$$\n",
        "\n",
        "- Same unit as target\n",
        "- Intuitive for interpretation\n",
        "\n",
        "---\n",
        "\n",
        "### 4. R² Score (Coefficient of Determination)\n",
        "\n",
        "Explains proportion of variance captured:\n",
        "\n",
        "$$\n",
        "R^2 = 1 - \\frac{\\sum (y_i - \\hat{y}_i)^2}{\\sum (y_i - \\bar{y})^2}\n",
        "$$\n",
        "\n",
        "- Closer to 1 → better\n",
        "- Can be negative if worse than baseline"
      ],
      "metadata": {
        "id": "RkY5zuXn3d_Y"
      }
    },
    {
      "cell_type": "code",
      "execution_count": null,
      "metadata": {
        "id": "xv7DwJml3MP1",
        "colab": {
          "base_uri": "https://localhost:8080/"
        },
        "outputId": "618de95c-13ce-4638-8b6d-4d24a4b9495a"
      },
      "outputs": [
        {
          "output_type": "stream",
          "name": "stdout",
          "text": [
            "MAE: 0.475\n",
            "MSE: 0.2874999999999999\n",
            "RMSE: 0.5361902647381803\n",
            "R2 Score: 0.9605995717344754\n"
          ]
        }
      ],
      "source": [
        "# Example values\n",
        "y_true = np.array([3.0, -0.5, 2.0, 7.0])\n",
        "y_pred = np.array([2.5, 0.0, 2.1, 7.8])\n",
        "\n",
        "# MAE\n",
        "print(\"MAE:\", mean_absolute_error(y_true, y_pred))\n",
        "\n",
        "# MSE\n",
        "print(\"MSE:\", mean_squared_error(y_true, y_pred))\n",
        "\n",
        "# RMSE\n",
        "print(\"RMSE:\", root_mean_squared_error(y_true, y_pred))\n",
        "\n",
        "# R²\n",
        "print(\"R2 Score:\", r2_score(y_true, y_pred))"
      ]
    },
    {
      "cell_type": "markdown",
      "source": [
        "## Common Classification Evaluation Metrics"
      ],
      "metadata": {
        "id": "ZgUQ8C2M3qEe"
      }
    },
    {
      "cell_type": "markdown",
      "source": [
        "Given:\n",
        "- TP: True Positives\n",
        "- TN: True Negatives\n",
        "- FP: False Positives\n",
        "- FN: False Negatives\n",
        "---\n",
        "\n",
        "**1. Confusion Matrix**\n",
        "\n",
        "Displays counts of TP, TN, FP, FN in matrix form.\n",
        "\n",
        "![Confusion Matrix](https://drive.google.com/uc?id=1Bk9DRLVR5_nsIWq2NhsMR1J5C57GvHcW)\n",
        "\n",
        "---\n",
        "\n",
        "**2. Accuracy**\n",
        "\n",
        "Proportion of correct predictions:\n",
        "\n",
        "$$\n",
        "\\text{Accuracy} = \\frac{TP + TN}{TP + TN + FP + FN}\n",
        "$$\n",
        "\n",
        "---\n",
        "\n",
        "**3. Precision**\n",
        "\n",
        "Of the predicted positives, how many were actually positive?\n",
        "\n",
        "$$\n",
        "\\text{Precision} = \\frac{TP}{TP + FP}\n",
        "$$\n",
        "\n",
        "---\n",
        "\n",
        "**4. Recall (Sensitivity / True Positive Rate)**\n",
        "\n",
        "Of all actual positives, how many were predicted correctly?\n",
        "\n",
        "$$\n",
        "\\text{Recall} = \\frac{TP}{TP + FN}\n",
        "$$\n",
        "\n",
        "![Precision vs. Recall](https://drive.google.com/uc?id=12kcP4Isul1l-nNtcNI3aG444YR1fvKOG)\n",
        "\n",
        "![Precision vs. Accuracy](https://drive.google.com/uc?id=1uUr1erW43vcuUUtWxcpwlP_ChtOWFRwW)\n",
        "\n",
        "---\n",
        "\n",
        "**5. F1 Score**\n",
        "\n",
        "Harmonic mean of precision and recall:\n",
        "\n",
        "$$\n",
        "\\text{F1} = 2 \\cdot \\frac{\\text{Precision} \\cdot \\text{Recall}}{\\text{Precision} + \\text{Recall}}\n",
        "$$\n",
        "\n",
        "---\n",
        "\n",
        "**6. ROC AUC (Receiver Operating Characteristic)**\n",
        "\n",
        "- Plots TPR vs FPR\n",
        "- AUC = Area under the curve (1.0 is perfect)\n",
        "\n",
        "---"
      ],
      "metadata": {
        "id": "tMD-ChCc3xS_"
      }
    },
    {
      "cell_type": "code",
      "source": [
        "# Example binary classification\n",
        "y_true = np.array([0, 1, 1, 0, 1, 1])\n",
        "y_pred = np.array([0, 1, 0, 0, 1, 1])\n",
        "y_prob = np.array([0.2, 0.8, 0.3, 0.1, 0.9, 0.7])  # Probabilities for ROC AUC\n",
        "\n",
        "print(\"Accuracy:\", accuracy_score(y_true, y_pred))\n",
        "print(\"Precision:\", precision_score(y_true, y_pred))\n",
        "print(\"Recall:\", recall_score(y_true, y_pred))\n",
        "print(\"F1 Score:\", f1_score(y_true, y_pred))\n",
        "print(\"Confusion Matrix:\\n\", confusion_matrix(y_true, y_pred))\n",
        "print(\"ROC AUC:\", roc_auc_score(y_true, y_prob))"
      ],
      "metadata": {
        "id": "cJHPTjUd3uV2",
        "colab": {
          "base_uri": "https://localhost:8080/"
        },
        "outputId": "8cbde005-e749-4bca-b8ae-ddc501c1f95b"
      },
      "execution_count": null,
      "outputs": [
        {
          "output_type": "stream",
          "name": "stdout",
          "text": [
            "Accuracy: 0.8333333333333334\n",
            "Precision: 1.0\n",
            "Recall: 0.75\n",
            "F1 Score: 0.8571428571428571\n",
            "Confusion Matrix:\n",
            " [[2 0]\n",
            " [1 3]]\n",
            "ROC AUC: 1.0\n"
          ]
        }
      ]
    },
    {
      "cell_type": "markdown",
      "source": [
        "## Visualizing Classification Metrics\n",
        "\n",
        "Once we calculate metrics like Accuracy, Precision, Recall, F1, and Confusion Matrix,\n",
        "it's helpful to visualize the results.\n",
        "\n",
        "---\n",
        "\n",
        "**1. Confusion Matrix (Heatmap)**\n",
        "\n",
        "A **Confusion Matrix** is a table layout that allows visualization of:\n",
        "- **TP (True Positive)**: Correctly predicted Positive class\n",
        "- **TN (True Negative)**: Correctly predicted Negative class\n",
        "- **FP (False Positive)**: Incorrectly predicted as Positive\n",
        "- **FN (False Negative)**: Incorrectly predicted as Negative\n",
        "\n",
        "We use `seaborn.heatmap()` to plot it.\n",
        "\n",
        "---\n",
        "\n",
        "**2. Classification Report**\n",
        "\n",
        "Provides a tabular summary of:\n",
        "- Precision\n",
        "- Recall\n",
        "- F1 Score\n",
        "- Support (number of instances for each class)\n",
        "\n",
        "---"
      ],
      "metadata": {
        "id": "tY7j8Hw-_gMp"
      }
    },
    {
      "cell_type": "code",
      "source": [
        "cm = confusion_matrix(y_true, y_pred)\n",
        "plt.figure(figsize=(5,4))\n",
        "sns.heatmap(cm, annot=True, fmt='d', cmap='Blues', xticklabels=[\"Pred 0\", \"Pred 1\"], yticklabels=[\"Actual 0\", \"Actual 1\"])\n",
        "plt.title(\"Confusion Matrix\")\n",
        "plt.ylabel(\"True Label\")\n",
        "plt.xlabel(\"Predicted Label\")\n",
        "plt.show()"
      ],
      "metadata": {
        "colab": {
          "base_uri": "https://localhost:8080/",
          "height": 410
        },
        "id": "WN8cgRxL_Opc",
        "outputId": "19dd0193-29a0-4e2f-8da9-b3a1c76678cd"
      },
      "execution_count": null,
      "outputs": [
        {
          "output_type": "display_data",
          "data": {
            "text/plain": [
              "<Figure size 500x400 with 2 Axes>"
            ],
            "image/png": "[encoded data removed]"
          },
          "metadata": {}
        }
      ]
    },
    {
      "cell_type": "code",
      "source": [
        "# Classification Report\n",
        "print(\"Classification Report:\")\n",
        "print(classification_report(y_true, y_pred))"
      ],
      "metadata": {
        "colab": {
          "base_uri": "https://localhost:8080/"
        },
        "id": "T2uHfbLRBAPl",
        "outputId": "a883fef8-e93e-4755-9da2-3a5314f0e7fd"
      },
      "execution_count": null,
      "outputs": [
        {
          "output_type": "stream",
          "name": "stdout",
          "text": [
            "Classification Report:\n",
            "              precision    recall  f1-score   support\n",
            "\n",
            "           0       0.67      1.00      0.80         2\n",
            "           1       1.00      0.75      0.86         4\n",
            "\n",
            "    accuracy                           0.83         6\n",
            "   macro avg       0.83      0.88      0.83         6\n",
            "weighted avg       0.89      0.83      0.84         6\n",
            "\n"
          ]
        }
      ]
    },
    {
      "cell_type": "markdown",
      "source": [
        "## ROC AUC for Binary Classification\n",
        "\n",
        "**ROC AUC** is a popular metric to evaluate binary classifiers.\n",
        "\n",
        "- **ROC Curve**: Plots the **True Positive Rate (TPR)** vs **False Positive Rate (FPR)** at various thresholds.\n",
        "- **AUC (Area Under the Curve)**: Measures the entire area under the ROC curve.\n",
        "\n",
        "**Key Terms**\n",
        "\n",
        "- **True Positive Rate (Recall)**:\n",
        "  $$ \\text{TPR} = \\frac{TP}{TP + FN} $$\n",
        "  \n",
        "- **False Positive Rate**:\n",
        "  $$ \\text{FPR} = \\frac{FP}{FP + TN} $$\n",
        "\n",
        "**Interpretation**\n",
        "\n",
        "| AUC Score | Meaning                     |\n",
        "|-----------|-----------------------------|\n",
        "| 1.0       | Perfect classifier          |\n",
        "| 0.9–1.0   | Excellent                   |\n",
        "| 0.8–0.9   | Good                        |\n",
        "| 0.7–0.8   | Fair                        |\n",
        "| 0.5       | No skill (random guessing) |\n",
        "| < 0.5     | Worse than random          |\n",
        "\n",
        "---\n",
        "**Simple Explanation: ROC AUC**\n",
        "\n",
        "When your model predicts a probability (e.g., 0.93, 0.41, 0.12), it doesn't just say \"yes\" or \"no\" — it tells you how confident it is.\n",
        "\n",
        "Now the question is:  \n",
        "**How well does the model separate Class 1 from Class 0 across all possible thresholds?**  \n",
        "That’s where **ROC** and **AUC** come in.\n",
        "\n",
        "---\n",
        "\n",
        "**ROC Curve**\n",
        "\n",
        "**ROC (Receiver Operating Characteristic)** curve is a plot of:\n",
        "\n",
        "- **True Positive Rate (TPR)** on the Y-axis  \n",
        "- **False Positive Rate (FPR)** on the X-axis\n",
        "\n",
        "It shows how the model behaves at **different thresholds** (from 0 to 1).\n",
        "\n",
        "For each threshold:\n",
        "- If predicted score ≥ threshold → predict class 1\n",
        "- Otherwise → predict class 0\n",
        "\n",
        "At each step, we calculate:\n",
        "- TPR = TP / (TP + FN) → how many real positives we correctly identified\n",
        "- FPR = FP / (FP + TN) → how many real negatives we wrongly labeled as positive\n",
        "\n",
        "---\n",
        "\n",
        "**AUC: Area Under the ROC Curve**\n",
        "\n",
        "**AUC (Area Under Curve)** is a single number that summarizes the entire ROC curve.\n",
        "\n",
        "It answers this question:\n",
        "\n",
        "> \"If I randomly pick one positive sample and one negative sample,  \n",
        "what is the probability that the model gives a **higher score** to the positive one?\"\n",
        "\n",
        "---\n",
        "\n",
        "**What Does AUC Value Mean?**\n",
        "\n",
        "- **1.0** → Perfect classifier  \n",
        "- **0.9 - 1.0** → Excellent  \n",
        "- **0.8 - 0.9** → Good  \n",
        "- **0.7 - 0.8** → Fair  \n",
        "- **0.5** → No skill (random guessing)  \n",
        "- **< 0.5** → Worse than random (model is confused!)\n",
        "\n",
        "---\n",
        "\n",
        "\n",
        "- **ROC Curve**: Shows performance across all thresholds.\n",
        "- **AUC Score**: Tells how well the model separates the classes overall.\n",
        "- Higher AUC = Better model.\n"
      ],
      "metadata": {
        "id": "q4o_yEbpC9OK"
      }
    },
    {
      "cell_type": "code",
      "source": [
        "from sklearn.datasets import load_breast_cancer\n",
        "from sklearn.model_selection import train_test_split\n",
        "from sklearn.linear_model import LogisticRegression\n",
        "from sklearn.metrics import roc_curve, roc_auc_score\n",
        "import matplotlib.pyplot as plt\n",
        "\n",
        "# Load binary classification dataset\n",
        "data = load_breast_cancer()\n",
        "X = data.data\n",
        "y = data.target  # Binary: 0 = malignant, 1 = benign\n",
        "\n",
        "# Split data\n",
        "X_train, X_test, y_train, y_test = train_test_split(X, y, test_size=0.3, random_state=42)"
      ],
      "metadata": {
        "id": "6cvSTZMiB-DB"
      },
      "execution_count": null,
      "outputs": []
    },
    {
      "cell_type": "code",
      "source": [
        "# Train logistic regression\n",
        "model = LogisticRegression(max_iter=10000)\n",
        "model.fit(X_train, y_train)\n",
        "\n",
        "# Predict probabilities for class 1 (benign)\n",
        "y_scores = model.predict_proba(X_test)[:, 1]"
      ],
      "metadata": {
        "id": "3puErUrLCMmD"
      },
      "execution_count": null,
      "outputs": []
    },
    {
      "cell_type": "markdown",
      "source": [
        "### ROC Curve Visualization\n",
        "\n",
        "The ROC curve shows how the classifier's performance changes with different thresholds.\n",
        "\n",
        "The diagonal line represents a random classifier (AUC = 0.5). The further the curve bows towards the top-left, the better the model.\n"
      ],
      "metadata": {
        "id": "10eWLkhMDpOd"
      }
    },
    {
      "cell_type": "code",
      "source": [
        "# Compute ROC values\n",
        "fpr, tpr, thresholds = roc_curve(y_test, y_scores)\n",
        "auc_score = roc_auc_score(y_test, y_scores)\n",
        "\n",
        "# Plot\n",
        "plt.figure(figsize=(8, 6))\n",
        "plt.plot(fpr, tpr, label=f\"Logistic Regression (AUC = {auc_score:.3f})\", color='blue')\n",
        "#plt.plot([0, 1], [0, 1], 'k--', label='Random Classifier')\n",
        "plt.xlabel(\"False Positive Rate\")\n",
        "plt.ylabel(\"True Positive Rate (Recall)\")\n",
        "plt.title(\"ROC Curve - Binary Classification\")\n",
        "plt.legend()\n",
        "plt.grid(True)\n",
        "plt.show()"
      ],
      "metadata": {
        "colab": {
          "base_uri": "https://localhost:8080/",
          "height": 564
        },
        "id": "eddSv7WGDNog",
        "outputId": "40d74389-c36d-4d81-d05d-cb0c0c1a61aa"
      },
      "execution_count": null,
      "outputs": [
        {
          "output_type": "display_data",
          "data": {
            "text/plain": [
              "<Figure size 800x600 with 1 Axes>"
            ],
            "image/png": "[encoded data removed]"
          },
          "metadata": {}
        }
      ]
    },
    {
      "cell_type": "code",
      "source": [],
      "metadata": {
        "id": "9alTfr13Dso6"
      },
      "execution_count": null,
      "outputs": []
    }
  ]
}